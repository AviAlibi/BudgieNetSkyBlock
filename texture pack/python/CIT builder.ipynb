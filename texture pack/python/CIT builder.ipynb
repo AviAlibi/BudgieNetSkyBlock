{
 "cells": [
  {
   "cell_type": "code",
   "execution_count": 65,
   "metadata": {},
   "outputs": [],
   "source": [
    "import os\n",
    "import math"
   ]
  },
  {
   "cell_type": "code",
   "execution_count": 66,
   "metadata": {},
   "outputs": [
    {
     "name": "stdout",
     "output_type": "stream",
     "text": [
      "['1 common', '2 uncommon', '3 rare', '4 epic', '5 legendary', '6 pinnacle', '7 divine', '81 master3', '82 master10', '83 master20', '84 master40', '85 master60', '86 master80', '87 master100', '88 master150']\n"
     ]
    }
   ],
   "source": [
    "directory = '../budgie_net_ResPak/assets/minecraft/optifine/cit'\n",
    "folder_list = [entry.name for entry in os.scandir(directory) if entry.is_dir()]\n",
    "print(folder_list)"
   ]
  },
  {
   "cell_type": "code",
   "execution_count": null,
   "metadata": {},
   "outputs": [],
   "source": [
    "# which folder to build to? integer, starting at 0 based on above\n",
    "folder = 1\n",
    "directory = os.path.join(directory, folder_list[folder]).replace('\\\\', '/')"
   ]
  },
  {
   "cell_type": "code",
   "execution_count": 68,
   "metadata": {},
   "outputs": [],
   "source": [
    "type=input('What type (armor or item): ') # armor or item\n",
    "item=[]\n",
    "item.append(input('What item does it mask? '))\n",
    "item.append(input('Item display name (custom name): '))\n",
    "item.append(input('Item display name clean (type_name) (no symbols): ').lower())\n",
    "directory = os.path.join(directory, f'{item[2]}.properties').replace('\\\\', '/')\n",
    "template = f'''type=armor\n",
    "items={item[0]}\n",
    "texture={item[2]}.png\n",
    "nbt.display.Name={item[1]}'''"
   ]
  },
  {
   "cell_type": "code",
   "execution_count": 69,
   "metadata": {},
   "outputs": [],
   "source": [
    "with open(file=directory, mode='x') as f:\n",
    "    f.write(template)"
   ]
  }
 ],
 "metadata": {
  "kernelspec": {
   "display_name": "Python 3",
   "language": "python",
   "name": "python3"
  },
  "language_info": {
   "codemirror_mode": {
    "name": "ipython",
    "version": 3
   },
   "file_extension": ".py",
   "mimetype": "text/x-python",
   "name": "python",
   "nbconvert_exporter": "python",
   "pygments_lexer": "ipython3",
   "version": "3.13.2"
  }
 },
 "nbformat": 4,
 "nbformat_minor": 2
}
